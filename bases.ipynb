{
 "cells": [
  {
   "cell_type": "code",
   "execution_count": null,
   "id": "5b2df3a4",
   "metadata": {},
   "outputs": [],
   "source": [
    "#! pip install openpyxl"
   ]
  },
  {
   "cell_type": "code",
   "execution_count": null,
   "id": "8544e124",
   "metadata": {},
   "outputs": [],
   "source": [
    "# Imports\n",
    "import pandas as pd\n",
    "from pathlib import Path\n",
    "print(\"vamos validar!!!\")\n",
    "print(\"testao!!!!\")\n"
   ]
  },
  {
   "cell_type": "code",
   "execution_count": 3,
   "id": "ff34b7a9",
   "metadata": {},
   "outputs": [
    {
     "name": "stdout",
     "output_type": "stream",
     "text": [
      "excel_file_found=C:\\Users\\Gabriel\\Documents\\1 - ESTUDO\\2 - Python Harve\\Mod_5 - Projeto Final\\Bases.xlsx\n"
     ]
    }
   ],
   "source": [
    "# Definir caminho do arquivo Excel\n",
    "excel_path = Path(\"Bases.xlsx\")\n",
    "\n",
    "# Verificação de existência\n",
    "if not excel_path.exists():\n",
    "    raise FileNotFoundError(f\"Arquivo não encontrado: {excel_path.resolve()}\")\n",
    "\n",
    "print(f\"excel_file_found={excel_path.resolve()}\")\n"
   ]
  },
  {
   "cell_type": "code",
   "execution_count": 7,
   "id": "d874de92",
   "metadata": {},
   "outputs": [
    {
     "name": "stdout",
     "output_type": "stream",
     "text": [
      "Abas encontradas: ['Doloso', 'Latrocínio', 'Corporal', 'Feminicidio']\n"
     ]
    },
    {
     "data": {
      "text/plain": [
       "['Doloso', 'Latrocínio', 'Corporal', 'Feminicidio']"
      ]
     },
     "execution_count": 7,
     "metadata": {},
     "output_type": "execute_result"
    }
   ],
   "source": [
    "# Listar as abas disponíveis no arquivo\n",
    "with pd.ExcelFile(excel_path) as xls:\n",
    "    sheet_names = xls.sheet_names\n",
    "\n",
    "print(\"Abas encontradas:\", sheet_names)\n",
    "sheet_names\n"
   ]
  },
  {
   "cell_type": "code",
   "execution_count": 8,
   "id": "c8c50f3c",
   "metadata": {},
   "outputs": [
    {
     "data": {
      "text/plain": [
       "['Doloso', 'Latrocínio', 'Corporal', 'Feminicidio']"
      ]
     },
     "execution_count": 8,
     "metadata": {},
     "output_type": "execute_result"
    }
   ],
   "source": [
    "# Ler todas as abas em um dicionário {nome_aba: DataFrame}\n",
    "dfs = pd.read_excel(excel_path, sheet_name=None)\n",
    "\n",
    "# Mostrar chaves confirmando leitura\n",
    "list(dfs.keys())\n"
   ]
  },
  {
   "cell_type": "code",
   "execution_count": 9,
   "id": "73a242d4",
   "metadata": {},
   "outputs": [
    {
     "data": {
      "text/plain": [
       "{'Doloso': 'df_Doloso',\n",
       " 'Latrocínio': 'df_Latrocinio',\n",
       " 'Corporal': 'df_Corporal',\n",
       " 'Feminicidio': 'df_Feminicidio'}"
      ]
     },
     "execution_count": 9,
     "metadata": {},
     "output_type": "execute_result"
    }
   ],
   "source": [
    "# Função utilitária para normalizar nomes de abas em identificadores válidos de variável\n",
    "import re\n",
    "\n",
    "def normalize_var_name(name: str) -> str:\n",
    "    # Remove acentos e caracteres especiais básicos\n",
    "    replacements = {\n",
    "        \"ã\":\"a\",\"á\":\"a\",\"à\":\"a\",\"â\":\"a\",\"ä\":\"a\",\n",
    "        \"é\":\"e\",\"è\":\"e\",\"ê\":\"e\",\"ë\":\"e\",\n",
    "        \"í\":\"i\",\"ì\":\"i\",\"î\":\"i\",\"ï\":\"i\",\n",
    "        \"ó\":\"o\",\"ò\":\"o\",\"ô\":\"o\",\"ö\":\"o\",\n",
    "        \"ú\":\"u\",\"ù\":\"u\",\"û\":\"u\",\"ü\":\"u\",\n",
    "        \"ç\":\"c\",\"ñ\":\"n\",\"Ã\":\"A\",\"Á\":\"A\",\"À\":\"A\",\"Â\":\"A\",\"Ä\":\"A\",\n",
    "        \"É\":\"E\",\"È\":\"E\",\"Ê\":\"E\",\"Ë\":\"E\",\n",
    "        \"Í\":\"I\",\"Ì\":\"I\",\"Î\":\"I\",\"Ï\":\"I\",\n",
    "        \"Ó\":\"O\",\"Ò\":\"O\",\"Ô\":\"O\",\"Ö\":\"O\",\n",
    "        \"Ú\":\"U\",\"Ù\":\"U\",\"Û\":\"U\",\"Ü\":\"U\",\n",
    "        \"Ç\":\"C\",\"Ñ\":\"N\"\n",
    "    }\n",
    "    for k, v in replacements.items():\n",
    "        name = name.replace(k, v)\n",
    "    name = re.sub(r\"[^0-9a-zA-Z_]+\", \"_\", name)  # troca não-alfanum por _\n",
    "    name = re.sub(r\"_{2,}\", \"_\", name).strip(\"_\") # remove underscores duplicados\n",
    "    if re.match(r\"^[0-9]\", name):\n",
    "        name = \"_\" + name\n",
    "    return name\n",
    "\n",
    "# Criar variáveis individuais df_<Aba>\n",
    "globals_map = {}\n",
    "for sheet, df in dfs.items():\n",
    "    var_name = f\"df_{normalize_var_name(sheet)}\"\n",
    "    globals()[var_name] = df\n",
    "    globals_map[sheet] = var_name\n",
    "\n",
    "globals_map  # mapeamento: Nome da Aba -> Nome da variável criada\n"
   ]
  },
  {
   "cell_type": "code",
   "execution_count": 10,
   "id": "9b4138b1",
   "metadata": {},
   "outputs": [
    {
     "name": "stdout",
     "output_type": "stream",
     "text": [
      "\n",
      "=== Doloso -> df_Doloso ===\n"
     ]
    },
    {
     "data": {
      "application/vnd.microsoft.datawrangler.viewer.v0+json": {
       "columns": [
        {
         "name": "index",
         "rawType": "int64",
         "type": "integer"
        },
        {
         "name": "Bairro",
         "rawType": "object",
         "type": "string"
        },
        {
         "name": "Jan",
         "rawType": "int64",
         "type": "integer"
        },
        {
         "name": "Fev",
         "rawType": "int64",
         "type": "integer"
        },
        {
         "name": "Mar",
         "rawType": "int64",
         "type": "integer"
        },
        {
         "name": "Abr",
         "rawType": "int64",
         "type": "integer"
        },
        {
         "name": "Mai",
         "rawType": "int64",
         "type": "integer"
        },
        {
         "name": "Jun",
         "rawType": "int64",
         "type": "integer"
        },
        {
         "name": "Jul",
         "rawType": "int64",
         "type": "integer"
        },
        {
         "name": "Ago",
         "rawType": "int64",
         "type": "integer"
        },
        {
         "name": "Set",
         "rawType": "int64",
         "type": "integer"
        },
        {
         "name": "Out",
         "rawType": "int64",
         "type": "integer"
        },
        {
         "name": "Nov",
         "rawType": "int64",
         "type": "integer"
        },
        {
         "name": "Dez",
         "rawType": "int64",
         "type": "integer"
        },
        {
         "name": "Total",
         "rawType": "int64",
         "type": "integer"
        }
       ],
       "ref": "5f31fe9d-3ae6-4c8a-b705-e862b32ef086",
       "rows": [
        [
         "0",
         "ABRANCHES",
         "0",
         "0",
         "0",
         "0",
         "0",
         "0",
         "0",
         "0",
         "0",
         "1",
         "0",
         "0",
         "1"
        ],
        [
         "1",
         "AGUA VERDE",
         "0",
         "0",
         "0",
         "0",
         "0",
         "0",
         "0",
         "0",
         "0",
         "0",
         "2",
         "0",
         "2"
        ],
        [
         "2",
         "AHU",
         "0",
         "0",
         "0",
         "0",
         "0",
         "0",
         "0",
         "0",
         "0",
         "0",
         "0",
         "0",
         "0"
        ],
        [
         "3",
         "ALTO BOQUEIRAO",
         "0",
         "0",
         "0",
         "0",
         "0",
         "0",
         "0",
         "0",
         "1",
         "0",
         "0",
         "0",
         "1"
        ],
        [
         "4",
         "ALTO DA GLORIA",
         "0",
         "0",
         "0",
         "0",
         "0",
         "1",
         "0",
         "0",
         "0",
         "0",
         "0",
         "0",
         "1"
        ]
       ],
       "shape": {
        "columns": 14,
        "rows": 5
       }
      },
      "text/html": [
       "<div>\n",
       "<style scoped>\n",
       "    .dataframe tbody tr th:only-of-type {\n",
       "        vertical-align: middle;\n",
       "    }\n",
       "\n",
       "    .dataframe tbody tr th {\n",
       "        vertical-align: top;\n",
       "    }\n",
       "\n",
       "    .dataframe thead th {\n",
       "        text-align: right;\n",
       "    }\n",
       "</style>\n",
       "<table border=\"1\" class=\"dataframe\">\n",
       "  <thead>\n",
       "    <tr style=\"text-align: right;\">\n",
       "      <th></th>\n",
       "      <th>Bairro</th>\n",
       "      <th>Jan</th>\n",
       "      <th>Fev</th>\n",
       "      <th>Mar</th>\n",
       "      <th>Abr</th>\n",
       "      <th>Mai</th>\n",
       "      <th>Jun</th>\n",
       "      <th>Jul</th>\n",
       "      <th>Ago</th>\n",
       "      <th>Set</th>\n",
       "      <th>Out</th>\n",
       "      <th>Nov</th>\n",
       "      <th>Dez</th>\n",
       "      <th>Total</th>\n",
       "    </tr>\n",
       "  </thead>\n",
       "  <tbody>\n",
       "    <tr>\n",
       "      <th>0</th>\n",
       "      <td>ABRANCHES</td>\n",
       "      <td>0</td>\n",
       "      <td>0</td>\n",
       "      <td>0</td>\n",
       "      <td>0</td>\n",
       "      <td>0</td>\n",
       "      <td>0</td>\n",
       "      <td>0</td>\n",
       "      <td>0</td>\n",
       "      <td>0</td>\n",
       "      <td>1</td>\n",
       "      <td>0</td>\n",
       "      <td>0</td>\n",
       "      <td>1</td>\n",
       "    </tr>\n",
       "    <tr>\n",
       "      <th>1</th>\n",
       "      <td>AGUA VERDE</td>\n",
       "      <td>0</td>\n",
       "      <td>0</td>\n",
       "      <td>0</td>\n",
       "      <td>0</td>\n",
       "      <td>0</td>\n",
       "      <td>0</td>\n",
       "      <td>0</td>\n",
       "      <td>0</td>\n",
       "      <td>0</td>\n",
       "      <td>0</td>\n",
       "      <td>2</td>\n",
       "      <td>0</td>\n",
       "      <td>2</td>\n",
       "    </tr>\n",
       "    <tr>\n",
       "      <th>2</th>\n",
       "      <td>AHU</td>\n",
       "      <td>0</td>\n",
       "      <td>0</td>\n",
       "      <td>0</td>\n",
       "      <td>0</td>\n",
       "      <td>0</td>\n",
       "      <td>0</td>\n",
       "      <td>0</td>\n",
       "      <td>0</td>\n",
       "      <td>0</td>\n",
       "      <td>0</td>\n",
       "      <td>0</td>\n",
       "      <td>0</td>\n",
       "      <td>0</td>\n",
       "    </tr>\n",
       "    <tr>\n",
       "      <th>3</th>\n",
       "      <td>ALTO BOQUEIRAO</td>\n",
       "      <td>0</td>\n",
       "      <td>0</td>\n",
       "      <td>0</td>\n",
       "      <td>0</td>\n",
       "      <td>0</td>\n",
       "      <td>0</td>\n",
       "      <td>0</td>\n",
       "      <td>0</td>\n",
       "      <td>1</td>\n",
       "      <td>0</td>\n",
       "      <td>0</td>\n",
       "      <td>0</td>\n",
       "      <td>1</td>\n",
       "    </tr>\n",
       "    <tr>\n",
       "      <th>4</th>\n",
       "      <td>ALTO DA GLORIA</td>\n",
       "      <td>0</td>\n",
       "      <td>0</td>\n",
       "      <td>0</td>\n",
       "      <td>0</td>\n",
       "      <td>0</td>\n",
       "      <td>1</td>\n",
       "      <td>0</td>\n",
       "      <td>0</td>\n",
       "      <td>0</td>\n",
       "      <td>0</td>\n",
       "      <td>0</td>\n",
       "      <td>0</td>\n",
       "      <td>1</td>\n",
       "    </tr>\n",
       "  </tbody>\n",
       "</table>\n",
       "</div>"
      ],
      "text/plain": [
       "           Bairro  Jan  Fev  Mar  Abr  Mai  Jun  Jul  Ago  Set  Out  Nov  Dez  \\\n",
       "0       ABRANCHES    0    0    0    0    0    0    0    0    0    1    0    0   \n",
       "1      AGUA VERDE    0    0    0    0    0    0    0    0    0    0    2    0   \n",
       "2             AHU    0    0    0    0    0    0    0    0    0    0    0    0   \n",
       "3  ALTO BOQUEIRAO    0    0    0    0    0    0    0    0    1    0    0    0   \n",
       "4  ALTO DA GLORIA    0    0    0    0    0    1    0    0    0    0    0    0   \n",
       "\n",
       "   Total  \n",
       "0      1  \n",
       "1      2  \n",
       "2      0  \n",
       "3      1  \n",
       "4      1  "
      ]
     },
     "metadata": {},
     "output_type": "display_data"
    },
    {
     "name": "stdout",
     "output_type": "stream",
     "text": [
      "\n",
      "=== Latrocínio -> df_Latrocinio ===\n"
     ]
    },
    {
     "data": {
      "application/vnd.microsoft.datawrangler.viewer.v0+json": {
       "columns": [
        {
         "name": "index",
         "rawType": "int64",
         "type": "integer"
        },
        {
         "name": "Bairro",
         "rawType": "object",
         "type": "string"
        },
        {
         "name": "Jan",
         "rawType": "int64",
         "type": "integer"
        },
        {
         "name": "Fev",
         "rawType": "int64",
         "type": "integer"
        },
        {
         "name": "Mar",
         "rawType": "int64",
         "type": "integer"
        },
        {
         "name": "Abr",
         "rawType": "int64",
         "type": "integer"
        },
        {
         "name": "Mai",
         "rawType": "int64",
         "type": "integer"
        },
        {
         "name": "Jun",
         "rawType": "int64",
         "type": "integer"
        },
        {
         "name": "Jul",
         "rawType": "int64",
         "type": "integer"
        },
        {
         "name": "Ago",
         "rawType": "int64",
         "type": "integer"
        },
        {
         "name": "Set",
         "rawType": "int64",
         "type": "integer"
        },
        {
         "name": "Out",
         "rawType": "int64",
         "type": "integer"
        },
        {
         "name": "Nov",
         "rawType": "int64",
         "type": "integer"
        },
        {
         "name": "Dez",
         "rawType": "int64",
         "type": "integer"
        },
        {
         "name": "Total",
         "rawType": "int64",
         "type": "integer"
        }
       ],
       "ref": "a1c40876-fce9-455d-b99d-c0dae9e31a19",
       "rows": [
        [
         "0",
         "ABRANCHES",
         "0",
         "0",
         "0",
         "0",
         "0",
         "0",
         "0",
         "0",
         "0",
         "0",
         "0",
         "0",
         "0"
        ],
        [
         "1",
         "AGUA VERDE",
         "0",
         "0",
         "0",
         "0",
         "0",
         "0",
         "0",
         "0",
         "0",
         "0",
         "0",
         "0",
         "0"
        ],
        [
         "2",
         "AHU",
         "0",
         "0",
         "0",
         "0",
         "0",
         "0",
         "0",
         "0",
         "0",
         "0",
         "0",
         "0",
         "0"
        ],
        [
         "3",
         "ALTO BOQUEIRAO",
         "0",
         "0",
         "0",
         "0",
         "0",
         "0",
         "0",
         "0",
         "0",
         "0",
         "0",
         "0",
         "0"
        ],
        [
         "4",
         "ALTO DA GLORIA",
         "0",
         "0",
         "0",
         "0",
         "0",
         "0",
         "0",
         "0",
         "0",
         "0",
         "0",
         "0",
         "0"
        ]
       ],
       "shape": {
        "columns": 14,
        "rows": 5
       }
      },
      "text/html": [
       "<div>\n",
       "<style scoped>\n",
       "    .dataframe tbody tr th:only-of-type {\n",
       "        vertical-align: middle;\n",
       "    }\n",
       "\n",
       "    .dataframe tbody tr th {\n",
       "        vertical-align: top;\n",
       "    }\n",
       "\n",
       "    .dataframe thead th {\n",
       "        text-align: right;\n",
       "    }\n",
       "</style>\n",
       "<table border=\"1\" class=\"dataframe\">\n",
       "  <thead>\n",
       "    <tr style=\"text-align: right;\">\n",
       "      <th></th>\n",
       "      <th>Bairro</th>\n",
       "      <th>Jan</th>\n",
       "      <th>Fev</th>\n",
       "      <th>Mar</th>\n",
       "      <th>Abr</th>\n",
       "      <th>Mai</th>\n",
       "      <th>Jun</th>\n",
       "      <th>Jul</th>\n",
       "      <th>Ago</th>\n",
       "      <th>Set</th>\n",
       "      <th>Out</th>\n",
       "      <th>Nov</th>\n",
       "      <th>Dez</th>\n",
       "      <th>Total</th>\n",
       "    </tr>\n",
       "  </thead>\n",
       "  <tbody>\n",
       "    <tr>\n",
       "      <th>0</th>\n",
       "      <td>ABRANCHES</td>\n",
       "      <td>0</td>\n",
       "      <td>0</td>\n",
       "      <td>0</td>\n",
       "      <td>0</td>\n",
       "      <td>0</td>\n",
       "      <td>0</td>\n",
       "      <td>0</td>\n",
       "      <td>0</td>\n",
       "      <td>0</td>\n",
       "      <td>0</td>\n",
       "      <td>0</td>\n",
       "      <td>0</td>\n",
       "      <td>0</td>\n",
       "    </tr>\n",
       "    <tr>\n",
       "      <th>1</th>\n",
       "      <td>AGUA VERDE</td>\n",
       "      <td>0</td>\n",
       "      <td>0</td>\n",
       "      <td>0</td>\n",
       "      <td>0</td>\n",
       "      <td>0</td>\n",
       "      <td>0</td>\n",
       "      <td>0</td>\n",
       "      <td>0</td>\n",
       "      <td>0</td>\n",
       "      <td>0</td>\n",
       "      <td>0</td>\n",
       "      <td>0</td>\n",
       "      <td>0</td>\n",
       "    </tr>\n",
       "    <tr>\n",
       "      <th>2</th>\n",
       "      <td>AHU</td>\n",
       "      <td>0</td>\n",
       "      <td>0</td>\n",
       "      <td>0</td>\n",
       "      <td>0</td>\n",
       "      <td>0</td>\n",
       "      <td>0</td>\n",
       "      <td>0</td>\n",
       "      <td>0</td>\n",
       "      <td>0</td>\n",
       "      <td>0</td>\n",
       "      <td>0</td>\n",
       "      <td>0</td>\n",
       "      <td>0</td>\n",
       "    </tr>\n",
       "    <tr>\n",
       "      <th>3</th>\n",
       "      <td>ALTO BOQUEIRAO</td>\n",
       "      <td>0</td>\n",
       "      <td>0</td>\n",
       "      <td>0</td>\n",
       "      <td>0</td>\n",
       "      <td>0</td>\n",
       "      <td>0</td>\n",
       "      <td>0</td>\n",
       "      <td>0</td>\n",
       "      <td>0</td>\n",
       "      <td>0</td>\n",
       "      <td>0</td>\n",
       "      <td>0</td>\n",
       "      <td>0</td>\n",
       "    </tr>\n",
       "    <tr>\n",
       "      <th>4</th>\n",
       "      <td>ALTO DA GLORIA</td>\n",
       "      <td>0</td>\n",
       "      <td>0</td>\n",
       "      <td>0</td>\n",
       "      <td>0</td>\n",
       "      <td>0</td>\n",
       "      <td>0</td>\n",
       "      <td>0</td>\n",
       "      <td>0</td>\n",
       "      <td>0</td>\n",
       "      <td>0</td>\n",
       "      <td>0</td>\n",
       "      <td>0</td>\n",
       "      <td>0</td>\n",
       "    </tr>\n",
       "  </tbody>\n",
       "</table>\n",
       "</div>"
      ],
      "text/plain": [
       "           Bairro  Jan  Fev  Mar  Abr  Mai  Jun  Jul  Ago  Set  Out  Nov  Dez  \\\n",
       "0       ABRANCHES    0    0    0    0    0    0    0    0    0    0    0    0   \n",
       "1      AGUA VERDE    0    0    0    0    0    0    0    0    0    0    0    0   \n",
       "2             AHU    0    0    0    0    0    0    0    0    0    0    0    0   \n",
       "3  ALTO BOQUEIRAO    0    0    0    0    0    0    0    0    0    0    0    0   \n",
       "4  ALTO DA GLORIA    0    0    0    0    0    0    0    0    0    0    0    0   \n",
       "\n",
       "   Total  \n",
       "0      0  \n",
       "1      0  \n",
       "2      0  \n",
       "3      0  \n",
       "4      0  "
      ]
     },
     "metadata": {},
     "output_type": "display_data"
    },
    {
     "name": "stdout",
     "output_type": "stream",
     "text": [
      "\n",
      "=== Corporal -> df_Corporal ===\n"
     ]
    },
    {
     "data": {
      "application/vnd.microsoft.datawrangler.viewer.v0+json": {
       "columns": [
        {
         "name": "index",
         "rawType": "int64",
         "type": "integer"
        },
        {
         "name": "Bairro",
         "rawType": "object",
         "type": "string"
        },
        {
         "name": "Jan",
         "rawType": "int64",
         "type": "integer"
        },
        {
         "name": "Fev",
         "rawType": "int64",
         "type": "integer"
        },
        {
         "name": "Mar",
         "rawType": "int64",
         "type": "integer"
        },
        {
         "name": "Abr",
         "rawType": "int64",
         "type": "integer"
        },
        {
         "name": "Mai",
         "rawType": "int64",
         "type": "integer"
        },
        {
         "name": "Jun",
         "rawType": "int64",
         "type": "integer"
        },
        {
         "name": "Jul",
         "rawType": "int64",
         "type": "integer"
        },
        {
         "name": "Ago",
         "rawType": "int64",
         "type": "integer"
        },
        {
         "name": "Set",
         "rawType": "int64",
         "type": "integer"
        },
        {
         "name": "Out",
         "rawType": "int64",
         "type": "integer"
        },
        {
         "name": "Nov",
         "rawType": "int64",
         "type": "integer"
        },
        {
         "name": "Dez",
         "rawType": "int64",
         "type": "integer"
        },
        {
         "name": "Total",
         "rawType": "int64",
         "type": "integer"
        }
       ],
       "ref": "12d2e860-e010-4128-9777-8955e87afaca",
       "rows": [
        [
         "0",
         "ABRANCHES",
         "0",
         "0",
         "0",
         "0",
         "0",
         "0",
         "0",
         "0",
         "0",
         "0",
         "0",
         "0",
         "0"
        ],
        [
         "1",
         "AGUA VERDE",
         "0",
         "0",
         "0",
         "0",
         "0",
         "0",
         "0",
         "0",
         "0",
         "0",
         "0",
         "0",
         "0"
        ],
        [
         "2",
         "AHU",
         "0",
         "0",
         "0",
         "0",
         "0",
         "0",
         "0",
         "0",
         "0",
         "0",
         "0",
         "0",
         "0"
        ],
        [
         "3",
         "ALTO BOQUEIRAO",
         "0",
         "0",
         "0",
         "1",
         "0",
         "0",
         "0",
         "0",
         "0",
         "0",
         "0",
         "0",
         "1"
        ],
        [
         "4",
         "ALTO DA GLORIA",
         "0",
         "0",
         "0",
         "0",
         "0",
         "0",
         "0",
         "0",
         "0",
         "0",
         "0",
         "0",
         "0"
        ]
       ],
       "shape": {
        "columns": 14,
        "rows": 5
       }
      },
      "text/html": [
       "<div>\n",
       "<style scoped>\n",
       "    .dataframe tbody tr th:only-of-type {\n",
       "        vertical-align: middle;\n",
       "    }\n",
       "\n",
       "    .dataframe tbody tr th {\n",
       "        vertical-align: top;\n",
       "    }\n",
       "\n",
       "    .dataframe thead th {\n",
       "        text-align: right;\n",
       "    }\n",
       "</style>\n",
       "<table border=\"1\" class=\"dataframe\">\n",
       "  <thead>\n",
       "    <tr style=\"text-align: right;\">\n",
       "      <th></th>\n",
       "      <th>Bairro</th>\n",
       "      <th>Jan</th>\n",
       "      <th>Fev</th>\n",
       "      <th>Mar</th>\n",
       "      <th>Abr</th>\n",
       "      <th>Mai</th>\n",
       "      <th>Jun</th>\n",
       "      <th>Jul</th>\n",
       "      <th>Ago</th>\n",
       "      <th>Set</th>\n",
       "      <th>Out</th>\n",
       "      <th>Nov</th>\n",
       "      <th>Dez</th>\n",
       "      <th>Total</th>\n",
       "    </tr>\n",
       "  </thead>\n",
       "  <tbody>\n",
       "    <tr>\n",
       "      <th>0</th>\n",
       "      <td>ABRANCHES</td>\n",
       "      <td>0</td>\n",
       "      <td>0</td>\n",
       "      <td>0</td>\n",
       "      <td>0</td>\n",
       "      <td>0</td>\n",
       "      <td>0</td>\n",
       "      <td>0</td>\n",
       "      <td>0</td>\n",
       "      <td>0</td>\n",
       "      <td>0</td>\n",
       "      <td>0</td>\n",
       "      <td>0</td>\n",
       "      <td>0</td>\n",
       "    </tr>\n",
       "    <tr>\n",
       "      <th>1</th>\n",
       "      <td>AGUA VERDE</td>\n",
       "      <td>0</td>\n",
       "      <td>0</td>\n",
       "      <td>0</td>\n",
       "      <td>0</td>\n",
       "      <td>0</td>\n",
       "      <td>0</td>\n",
       "      <td>0</td>\n",
       "      <td>0</td>\n",
       "      <td>0</td>\n",
       "      <td>0</td>\n",
       "      <td>0</td>\n",
       "      <td>0</td>\n",
       "      <td>0</td>\n",
       "    </tr>\n",
       "    <tr>\n",
       "      <th>2</th>\n",
       "      <td>AHU</td>\n",
       "      <td>0</td>\n",
       "      <td>0</td>\n",
       "      <td>0</td>\n",
       "      <td>0</td>\n",
       "      <td>0</td>\n",
       "      <td>0</td>\n",
       "      <td>0</td>\n",
       "      <td>0</td>\n",
       "      <td>0</td>\n",
       "      <td>0</td>\n",
       "      <td>0</td>\n",
       "      <td>0</td>\n",
       "      <td>0</td>\n",
       "    </tr>\n",
       "    <tr>\n",
       "      <th>3</th>\n",
       "      <td>ALTO BOQUEIRAO</td>\n",
       "      <td>0</td>\n",
       "      <td>0</td>\n",
       "      <td>0</td>\n",
       "      <td>1</td>\n",
       "      <td>0</td>\n",
       "      <td>0</td>\n",
       "      <td>0</td>\n",
       "      <td>0</td>\n",
       "      <td>0</td>\n",
       "      <td>0</td>\n",
       "      <td>0</td>\n",
       "      <td>0</td>\n",
       "      <td>1</td>\n",
       "    </tr>\n",
       "    <tr>\n",
       "      <th>4</th>\n",
       "      <td>ALTO DA GLORIA</td>\n",
       "      <td>0</td>\n",
       "      <td>0</td>\n",
       "      <td>0</td>\n",
       "      <td>0</td>\n",
       "      <td>0</td>\n",
       "      <td>0</td>\n",
       "      <td>0</td>\n",
       "      <td>0</td>\n",
       "      <td>0</td>\n",
       "      <td>0</td>\n",
       "      <td>0</td>\n",
       "      <td>0</td>\n",
       "      <td>0</td>\n",
       "    </tr>\n",
       "  </tbody>\n",
       "</table>\n",
       "</div>"
      ],
      "text/plain": [
       "           Bairro  Jan  Fev  Mar  Abr  Mai  Jun  Jul  Ago  Set  Out  Nov  Dez  \\\n",
       "0       ABRANCHES    0    0    0    0    0    0    0    0    0    0    0    0   \n",
       "1      AGUA VERDE    0    0    0    0    0    0    0    0    0    0    0    0   \n",
       "2             AHU    0    0    0    0    0    0    0    0    0    0    0    0   \n",
       "3  ALTO BOQUEIRAO    0    0    0    1    0    0    0    0    0    0    0    0   \n",
       "4  ALTO DA GLORIA    0    0    0    0    0    0    0    0    0    0    0    0   \n",
       "\n",
       "   Total  \n",
       "0      0  \n",
       "1      0  \n",
       "2      0  \n",
       "3      1  \n",
       "4      0  "
      ]
     },
     "metadata": {},
     "output_type": "display_data"
    },
    {
     "name": "stdout",
     "output_type": "stream",
     "text": [
      "\n",
      "=== Feminicidio -> df_Feminicidio ===\n"
     ]
    },
    {
     "data": {
      "application/vnd.microsoft.datawrangler.viewer.v0+json": {
       "columns": [
        {
         "name": "index",
         "rawType": "int64",
         "type": "integer"
        },
        {
         "name": "Bairro",
         "rawType": "object",
         "type": "string"
        },
        {
         "name": "Jan",
         "rawType": "int64",
         "type": "integer"
        },
        {
         "name": "Fev",
         "rawType": "int64",
         "type": "integer"
        },
        {
         "name": "Mar",
         "rawType": "int64",
         "type": "integer"
        },
        {
         "name": "Abr",
         "rawType": "int64",
         "type": "integer"
        },
        {
         "name": "Mai",
         "rawType": "int64",
         "type": "integer"
        },
        {
         "name": "Jun",
         "rawType": "int64",
         "type": "integer"
        },
        {
         "name": "Jul",
         "rawType": "int64",
         "type": "integer"
        },
        {
         "name": "Ago",
         "rawType": "int64",
         "type": "integer"
        },
        {
         "name": "Set",
         "rawType": "int64",
         "type": "integer"
        },
        {
         "name": "Out",
         "rawType": "int64",
         "type": "integer"
        },
        {
         "name": "Nov",
         "rawType": "int64",
         "type": "integer"
        },
        {
         "name": "Dez",
         "rawType": "int64",
         "type": "integer"
        },
        {
         "name": "Total",
         "rawType": "int64",
         "type": "integer"
        }
       ],
       "ref": "1050deb9-e39b-49c3-8423-8d58245c3cbe",
       "rows": [
        [
         "0",
         "ABRANCHES",
         "0",
         "0",
         "0",
         "0",
         "0",
         "0",
         "0",
         "0",
         "0",
         "0",
         "0",
         "0",
         "0"
        ],
        [
         "1",
         "AGUA VERDE",
         "0",
         "0",
         "0",
         "0",
         "0",
         "0",
         "0",
         "0",
         "0",
         "0",
         "0",
         "0",
         "0"
        ],
        [
         "2",
         "AHU",
         "0",
         "0",
         "0",
         "0",
         "0",
         "0",
         "0",
         "0",
         "0",
         "0",
         "0",
         "0",
         "0"
        ],
        [
         "3",
         "ALTO BOQUEIRAO",
         "0",
         "0",
         "0",
         "0",
         "0",
         "0",
         "0",
         "0",
         "0",
         "0",
         "0",
         "0",
         "0"
        ],
        [
         "4",
         "ALTO DA GLORIA",
         "0",
         "0",
         "0",
         "0",
         "0",
         "0",
         "0",
         "0",
         "0",
         "0",
         "0",
         "0",
         "0"
        ]
       ],
       "shape": {
        "columns": 14,
        "rows": 5
       }
      },
      "text/html": [
       "<div>\n",
       "<style scoped>\n",
       "    .dataframe tbody tr th:only-of-type {\n",
       "        vertical-align: middle;\n",
       "    }\n",
       "\n",
       "    .dataframe tbody tr th {\n",
       "        vertical-align: top;\n",
       "    }\n",
       "\n",
       "    .dataframe thead th {\n",
       "        text-align: right;\n",
       "    }\n",
       "</style>\n",
       "<table border=\"1\" class=\"dataframe\">\n",
       "  <thead>\n",
       "    <tr style=\"text-align: right;\">\n",
       "      <th></th>\n",
       "      <th>Bairro</th>\n",
       "      <th>Jan</th>\n",
       "      <th>Fev</th>\n",
       "      <th>Mar</th>\n",
       "      <th>Abr</th>\n",
       "      <th>Mai</th>\n",
       "      <th>Jun</th>\n",
       "      <th>Jul</th>\n",
       "      <th>Ago</th>\n",
       "      <th>Set</th>\n",
       "      <th>Out</th>\n",
       "      <th>Nov</th>\n",
       "      <th>Dez</th>\n",
       "      <th>Total</th>\n",
       "    </tr>\n",
       "  </thead>\n",
       "  <tbody>\n",
       "    <tr>\n",
       "      <th>0</th>\n",
       "      <td>ABRANCHES</td>\n",
       "      <td>0</td>\n",
       "      <td>0</td>\n",
       "      <td>0</td>\n",
       "      <td>0</td>\n",
       "      <td>0</td>\n",
       "      <td>0</td>\n",
       "      <td>0</td>\n",
       "      <td>0</td>\n",
       "      <td>0</td>\n",
       "      <td>0</td>\n",
       "      <td>0</td>\n",
       "      <td>0</td>\n",
       "      <td>0</td>\n",
       "    </tr>\n",
       "    <tr>\n",
       "      <th>1</th>\n",
       "      <td>AGUA VERDE</td>\n",
       "      <td>0</td>\n",
       "      <td>0</td>\n",
       "      <td>0</td>\n",
       "      <td>0</td>\n",
       "      <td>0</td>\n",
       "      <td>0</td>\n",
       "      <td>0</td>\n",
       "      <td>0</td>\n",
       "      <td>0</td>\n",
       "      <td>0</td>\n",
       "      <td>0</td>\n",
       "      <td>0</td>\n",
       "      <td>0</td>\n",
       "    </tr>\n",
       "    <tr>\n",
       "      <th>2</th>\n",
       "      <td>AHU</td>\n",
       "      <td>0</td>\n",
       "      <td>0</td>\n",
       "      <td>0</td>\n",
       "      <td>0</td>\n",
       "      <td>0</td>\n",
       "      <td>0</td>\n",
       "      <td>0</td>\n",
       "      <td>0</td>\n",
       "      <td>0</td>\n",
       "      <td>0</td>\n",
       "      <td>0</td>\n",
       "      <td>0</td>\n",
       "      <td>0</td>\n",
       "    </tr>\n",
       "    <tr>\n",
       "      <th>3</th>\n",
       "      <td>ALTO BOQUEIRAO</td>\n",
       "      <td>0</td>\n",
       "      <td>0</td>\n",
       "      <td>0</td>\n",
       "      <td>0</td>\n",
       "      <td>0</td>\n",
       "      <td>0</td>\n",
       "      <td>0</td>\n",
       "      <td>0</td>\n",
       "      <td>0</td>\n",
       "      <td>0</td>\n",
       "      <td>0</td>\n",
       "      <td>0</td>\n",
       "      <td>0</td>\n",
       "    </tr>\n",
       "    <tr>\n",
       "      <th>4</th>\n",
       "      <td>ALTO DA GLORIA</td>\n",
       "      <td>0</td>\n",
       "      <td>0</td>\n",
       "      <td>0</td>\n",
       "      <td>0</td>\n",
       "      <td>0</td>\n",
       "      <td>0</td>\n",
       "      <td>0</td>\n",
       "      <td>0</td>\n",
       "      <td>0</td>\n",
       "      <td>0</td>\n",
       "      <td>0</td>\n",
       "      <td>0</td>\n",
       "      <td>0</td>\n",
       "    </tr>\n",
       "  </tbody>\n",
       "</table>\n",
       "</div>"
      ],
      "text/plain": [
       "           Bairro  Jan  Fev  Mar  Abr  Mai  Jun  Jul  Ago  Set  Out  Nov  Dez  \\\n",
       "0       ABRANCHES    0    0    0    0    0    0    0    0    0    0    0    0   \n",
       "1      AGUA VERDE    0    0    0    0    0    0    0    0    0    0    0    0   \n",
       "2             AHU    0    0    0    0    0    0    0    0    0    0    0    0   \n",
       "3  ALTO BOQUEIRAO    0    0    0    0    0    0    0    0    0    0    0    0   \n",
       "4  ALTO DA GLORIA    0    0    0    0    0    0    0    0    0    0    0    0   \n",
       "\n",
       "   Total  \n",
       "0      0  \n",
       "1      0  \n",
       "2      0  \n",
       "3      0  \n",
       "4      0  "
      ]
     },
     "metadata": {},
     "output_type": "display_data"
    }
   ],
   "source": [
    "# Exibir as 5 primeiras linhas de cada DataFrame\n",
    "for sheet, var_name in globals_map.items():\n",
    "    print(f\"\\n=== {sheet} -> {var_name} ===\")\n",
    "    display(globals()[var_name].head())\n"
   ]
  },
  {
   "cell_type": "code",
   "execution_count": 11,
   "id": "e3aa52b0",
   "metadata": {},
   "outputs": [
    {
     "name": "stdout",
     "output_type": "stream",
     "text": [
      "\n",
      "--- Doloso (df_Doloso) ---\n",
      "Colunas: ['Bairro', 'Jan', 'Fev', 'Mar', 'Abr', 'Mai', 'Jun', 'Jul', 'Ago', 'Set', 'Out', 'Nov', 'Dez', 'Total']\n",
      "Bairro    object\n",
      "Jan        int64\n",
      "Fev        int64\n",
      "Mar        int64\n",
      "Abr        int64\n",
      "Mai        int64\n",
      "Jun        int64\n",
      "Jul        int64\n",
      "Ago        int64\n",
      "Set        int64\n",
      "Out        int64\n",
      "Nov        int64\n",
      "Dez        int64\n",
      "Total      int64\n",
      "dtype: object\n",
      "\n",
      "--- Latrocínio (df_Latrocinio) ---\n",
      "Colunas: ['Bairro', 'Jan', 'Fev', 'Mar', 'Abr', 'Mai', 'Jun', 'Jul', 'Ago', 'Set', 'Out', 'Nov', 'Dez', 'Total']\n",
      "Bairro    object\n",
      "Jan        int64\n",
      "Fev        int64\n",
      "Mar        int64\n",
      "Abr        int64\n",
      "Mai        int64\n",
      "Jun        int64\n",
      "Jul        int64\n",
      "Ago        int64\n",
      "Set        int64\n",
      "Out        int64\n",
      "Nov        int64\n",
      "Dez        int64\n",
      "Total      int64\n",
      "dtype: object\n",
      "\n",
      "--- Corporal (df_Corporal) ---\n",
      "Colunas: ['Bairro', 'Jan', 'Fev', 'Mar', 'Abr', 'Mai', 'Jun', 'Jul', 'Ago', 'Set', 'Out', 'Nov', 'Dez', 'Total']\n",
      "Bairro    object\n",
      "Jan        int64\n",
      "Fev        int64\n",
      "Mar        int64\n",
      "Abr        int64\n",
      "Mai        int64\n",
      "Jun        int64\n",
      "Jul        int64\n",
      "Ago        int64\n",
      "Set        int64\n",
      "Out        int64\n",
      "Nov        int64\n",
      "Dez        int64\n",
      "Total      int64\n",
      "dtype: object\n",
      "\n",
      "--- Feminicidio (df_Feminicidio) ---\n",
      "Colunas: ['Bairro', 'Jan', 'Fev', 'Mar', 'Abr', 'Mai', 'Jun', 'Jul', 'Ago', 'Set', 'Out', 'Nov', 'Dez', 'Total']\n",
      "Bairro    object\n",
      "Jan        int64\n",
      "Fev        int64\n",
      "Mar        int64\n",
      "Abr        int64\n",
      "Mai        int64\n",
      "Jun        int64\n",
      "Jul        int64\n",
      "Ago        int64\n",
      "Set        int64\n",
      "Out        int64\n",
      "Nov        int64\n",
      "Dez        int64\n",
      "Total      int64\n",
      "dtype: object\n"
     ]
    }
   ],
   "source": [
    "# Tipos de dados e colunas por aba\n",
    "for sheet, var_name in globals_map.items():\n",
    "    df = globals()[var_name]\n",
    "    print(f\"\\n--- {sheet} ({var_name}) ---\")\n",
    "    print(\"Colunas:\", list(df.columns))\n",
    "    print(df.dtypes)\n"
   ]
  },
  {
   "cell_type": "code",
   "execution_count": 12,
   "id": "653456a6",
   "metadata": {},
   "outputs": [
    {
     "name": "stdout",
     "output_type": "stream",
     "text": [
      "Doloso -> ['bairro', 'jan', 'fev', 'mar', 'abr', 'mai', 'jun', 'jul', 'ago', 'set', 'out', 'nov', 'dez', 'total']\n",
      "Latrocínio -> ['bairro', 'jan', 'fev', 'mar', 'abr', 'mai', 'jun', 'jul', 'ago', 'set', 'out', 'nov', 'dez', 'total']\n",
      "Corporal -> ['bairro', 'jan', 'fev', 'mar', 'abr', 'mai', 'jun', 'jul', 'ago', 'set', 'out', 'nov', 'dez', 'total']\n",
      "Feminicidio -> ['bairro', 'jan', 'fev', 'mar', 'abr', 'mai', 'jun', 'jul', 'ago', 'set', 'out', 'nov', 'dez', 'total']\n"
     ]
    }
   ],
   "source": [
    "# Padronizar nomes de colunas: remover espaços, acentos e deixar snake_case\n",
    "import re\n",
    "def clean_columns(df: pd.DataFrame) -> pd.DataFrame:\n",
    "    def norm(col: str) -> str:\n",
    "        col = str(col)\n",
    "        repl = {\n",
    "            \"ã\":\"a\",\"á\":\"a\",\"à\":\"a\",\"â\":\"a\",\"ä\":\"a\",\n",
    "            \"é\":\"e\",\"è\":\"e\",\"ê\":\"e\",\"ë\":\"e\",\n",
    "            \"í\":\"i\",\"ì\":\"i\",\"î\":\"i\",\"ï\":\"i\",\n",
    "            \"ó\":\"o\",\"ò\":\"o\",\"ô\":\"o\",\"ö\":\"o\",\n",
    "            \"ú\":\"u\",\"ù\":\"u\",\"û\":\"u\",\"ü\":\"u\",\n",
    "            \"ç\":\"c\"\n",
    "        }\n",
    "        for k, v in repl.items(): col = col.replace(k, v)\n",
    "        col = col.strip().lower()\n",
    "        col = re.sub(r\"[^0-9a-z_ ]\", \"_\", col)\n",
    "        col = re.sub(r\"\\\\s+\", \"_\", col)\n",
    "        col = re.sub(r\"_+\", \"_\", col).strip(\"_\")\n",
    "        return col\n",
    "\n",
    "    df = df.copy()\n",
    "    df.columns = [norm(c) for c in df.columns]\n",
    "    return df\n",
    "\n",
    "# Aplicar limpeza (opcional). Se não quiser, pule esta célula.\n",
    "for sheet, var_name in globals_map.items():\n",
    "    df = globals()[var_name]\n",
    "    globals()[var_name] = clean_columns(df)\n",
    "\n",
    "# Conferir após limpeza\n",
    "for sheet, var_name in globals_map.items():\n",
    "    print(f\"{sheet} -> {list(globals()[var_name].columns)}\")\n"
   ]
  },
  {
   "cell_type": "code",
   "execution_count": 13,
   "id": "60e1d3b1",
   "metadata": {},
   "outputs": [
    {
     "data": {
      "text/plain": [
       "{'Doloso': np.int64(356),\n",
       " 'Latrocínio': np.int64(6),\n",
       " 'Corporal': np.int64(18),\n",
       " 'Feminicidio': np.int64(22)}"
      ]
     },
     "execution_count": 13,
     "metadata": {},
     "output_type": "execute_result"
    }
   ],
   "source": [
    "# Exemplo: conferir total por aba (assumindo coluna 'total' após limpeza)\n",
    "resumo_totais = {}\n",
    "for sheet, var_name in globals_map.items():\n",
    "    df = globals()[var_name]\n",
    "    col_total = [c for c in df.columns if c.lower() == \"total\"]\n",
    "    if col_total:\n",
    "        resumo_totais[sheet] = df[col_total[0]].sum(numeric_only=True)\n",
    "    else:\n",
    "        resumo_totais[sheet] = None\n",
    "\n",
    "resumo_totais\n"
   ]
  },
  {
   "cell_type": "code",
   "execution_count": 14,
   "id": "546cabca",
   "metadata": {},
   "outputs": [
    {
     "name": "stdout",
     "output_type": "stream",
     "text": [
      "CSV salvo: csv_export\\Doloso.csv\n",
      "CSV salvo: csv_export\\Latrocinio.csv\n",
      "CSV salvo: csv_export\\Corporal.csv\n",
      "CSV salvo: csv_export\\Feminicidio.csv\n"
     ]
    }
   ],
   "source": [
    "# Exportar cada DataFrame para CSV no diretório atual\n",
    "output_dir = Path(\"./csv_export\")\n",
    "output_dir.mkdir(exist_ok=True)\n",
    "\n",
    "for sheet, var_name in globals_map.items():\n",
    "    safe_name = normalize_var_name(sheet)\n",
    "    out_path = output_dir / f\"{safe_name}.csv\"\n",
    "    globals()[var_name].to_csv(out_path, index=False, encoding=\"utf-8\")\n",
    "    print(f\"CSV salvo: {out_path}\")\n"
   ]
  }
 ],
 "metadata": {
  "kernelspec": {
   "display_name": "Python 3",
   "language": "python",
   "name": "python3"
  },
  "language_info": {
   "codemirror_mode": {
    "name": "ipython",
    "version": 3
   },
   "file_extension": ".py",
   "mimetype": "text/x-python",
   "name": "python",
   "nbconvert_exporter": "python",
   "pygments_lexer": "ipython3",
   "version": "3.13.7"
  }
 },
 "nbformat": 4,
 "nbformat_minor": 5
}
